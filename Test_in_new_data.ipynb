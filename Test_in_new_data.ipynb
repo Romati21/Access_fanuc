{
 "cells": [
  {
   "attachments": {},
   "cell_type": "markdown",
   "metadata": {},
   "source": [
    "#### Создадим базу данных с именем \"fanuc_primary_base\""
   ]
  },
  {
   "cell_type": "code",
   "execution_count": 26,
   "metadata": {},
   "outputs": [
    {
     "name": "stdout",
     "output_type": "stream",
     "text": [
      "База данных успешно создана\n"
     ]
    }
   ],
   "source": [
    "import psycopg2\n",
    "\n",
    "conn = psycopg2.connect(dbname=\"postgres\", user=\"postgres\", password=\"nbvjirF9291\", host=\"localhost\", port=\"5432\")\n",
    "cursor = conn.cursor()\n",
    "\n",
    "conn.autocommit = True\n",
    "# команда для создания базы данных fanuc_primary_base\n",
    "sql = \"CREATE DATABASE fanuc_primary_base\"\n",
    "\n",
    "# выполняем код sql\n",
    "cursor.execute(sql)\n",
    "print(\"База данных успешно создана\")\n",
    "\n",
    "cursor.close()\n",
    "conn.close()"
   ]
  },
  {
   "attachments": {},
   "cell_type": "markdown",
   "metadata": {},
   "source": [
    "#### В базе данных \"fanuc_primary_base\" создадим таблицу primary_machine_data"
   ]
  },
  {
   "cell_type": "code",
   "execution_count": 28,
   "metadata": {},
   "outputs": [
    {
     "name": "stdout",
     "output_type": "stream",
     "text": [
      "Таблица people успешно создана\n"
     ]
    }
   ],
   "source": [
    "import psycopg2\n",
    "\n",
    "conn = psycopg2.connect(dbname=\"fanuc_primary_base\", user=\"postgres\", password=\"nbvjirF9291\", host=\"localhost\", port=\"5432\")\n",
    "cursor = conn.cursor()\n",
    "\n",
    "# создаем таблицу primary_machine_data\n",
    "cursor.execute(\"\"\"\n",
    "    CREATE TABLE IF NOT EXISTS primary_machine_data (\n",
    "        Logno bigserial,\n",
    "        machinename VARCHAR(25),\n",
    "        statustype smallint,\n",
    "        stdatetime timestamp,\n",
    "        enddatetime timestamp,\n",
    "        partcount smallint,\n",
    "        progno VARCHAR(8),\n",
    "        cyclerecord BOOL,\n",
    "        iscontinuous BOOL,\n",
    "        continuouslogno smallint,\n",
    "        transactiontime timestamp,\n",
    "        transactionms smallint,\n",
    "        almmsg VARCHAR(255),\n",
    "        controlpartcount smallint\n",
    "    );\n",
    "\"\"\")\n",
    "\n",
    "# поддверждаем транзакцию\n",
    "conn.commit()\n",
    "print(\"Таблица people успешно создана\")\n",
    "\n",
    "cursor.close()\n",
    "conn.close()"
   ]
  },
  {
   "attachments": {},
   "cell_type": "markdown",
   "metadata": {},
   "source": [
    "#### Добавляем все данные в базу SQL"
   ]
  },
  {
   "cell_type": "code",
   "execution_count": 39,
   "metadata": {},
   "outputs": [],
   "source": [
    "#импортировать необходимые библиотеки\n",
    "import pyodbc\n",
    "import psycopg2\n",
    "\n",
    "# Подключитесь к базе данных Access\n",
    "access_conn_str = (\n",
    "    r'DRIVER={Microsoft Access Driver (*.mdb, *.accdb)};'\n",
    "    # r'DBQ=E:\\MONITORING\\test_pandas.accdb;'\n",
    "    r'DBQ=D:\\SkyMarsUtilization\\2022-02-09_UtilizationDB.mdb'\n",
    "    )\n",
    "access_conn = pyodbc.connect(access_conn_str)\n",
    "access_cursor = access_conn.cursor()\n",
    "\n",
    "# Подключитесь к базе данных PostgreSQL\n",
    "pg_conn = psycopg2.connect(dbname=\"fanuc_primary_base\", user=\"postgres\", password=\"nbvjirF9291\", host=\"localhost\", port=\"5432\")\n",
    "pg_cursor = pg_conn.cursor()\n",
    "\n",
    "# Выбор новых данных из базы данных Access\n",
    "access_cursor.execute(\"SELECT * FROM StatusLog\")\n",
    "new_data = set([tuple(row) for row in access_cursor.fetchall()])\n",
    "\n",
    "# Вставка новых данных в базу данных PostgreSQL\n",
    "pg_cursor.executemany(\"INSERT INTO primary_machine_data VALUES (%s, %s, %s, %s,\\\n",
    "       %s, %s, %s, %s, %s, %s, %s, %s, %s, %s)\", new_data)\n",
    "\n",
    "# Зафиксируйте изменения в базе данных PostgreSQL\n",
    "pg_conn.commit()\n",
    "print(\"Данные успешно добавленны\")\n",
    "\n",
    "# Close connections\n",
    "pg_cursor.close()\n",
    "pg_conn.close()\n",
    "access_cursor.close()\n",
    "access_conn.close()"
   ]
  },
  {
   "attachments": {},
   "cell_type": "markdown",
   "metadata": {},
   "source": [
    "#### Добавляем в базу SQL только новые данные"
   ]
  },
  {
   "cell_type": "code",
   "execution_count": 1,
   "metadata": {},
   "outputs": [],
   "source": [
    "# Импорт необходимых библиотек\n",
    "import pyodbc\n",
    "import psycopg2\n",
    "\n",
    "# Подключение к базе данных Access\n",
    "access_conn_str = (\n",
    "    r'DRIVER={Microsoft Access Driver (*.mdb, *.accdb)};'\n",
    "    r'DBQ=D:\\SkyMarsUtilization\\2022-02-09_UtilizationDB.mdb'\n",
    ")\n",
    "with pyodbc.connect(access_conn_str) as access_conn, access_conn.cursor() as access_cursor:\n",
    "\n",
    "    # Подключение к базе данных PostgreSQL\n",
    "    pg_conn = psycopg2.connect(\n",
    "        dbname=\"fanuc_primary_base\",\n",
    "        user=\"postgres\",\n",
    "        password=\"nbvjirF9291\",\n",
    "        host=\"localhost\",\n",
    "        port=\"5432\"\n",
    "    )\n",
    "    with pg_conn, pg_conn.cursor() as pg_cursor:\n",
    "\n",
    "        # Получение существующих данных из базы данных PostgreSQL\n",
    "        pg_cursor.execute(\n",
    "            \"SELECT logno, machinename, statustype, stdatetime, enddatetime, partcount, progno, cyclerecord, iscontinuous, \\\n",
    "            continuouslogno, transactiontime, transactionms, almmsg, controlpartcount FROM primary_machine_data\"\n",
    "        )\n",
    "        existing_data = {row[0]: row[1:] for row in pg_cursor.fetchall()}\n",
    "\n",
    "        # Получение новых данных из базы данных Access\n",
    "        access_cursor.execute(\"SELECT * FROM StatusLog\")\n",
    "        new_data = [tuple(row) for row in access_cursor.fetchall()]\n",
    "\n",
    "        # Отфильтруйте существующие данные из new_data\n",
    "        new_data = [row for row in new_data if row[0] not in existing_data.keys()]\n",
    "\n",
    "        # Вставка новых_данных в базу данных PostgreSQL\n",
    "        pg_cursor.executemany(\n",
    "            \"INSERT INTO primary_machine_data (logno, machinename, statustype, stdatetime, enddatetime, partcount, progno, \\\n",
    "            cyclerecord, iscontinuous, continuouslogno, transactiontime, transactionms, almmsg, controlpartcount) \\\n",
    "            VALUES (%s, %s, %s, %s, %s, %s, %s, %s, %s, %s, %s, %s, %s, %s)\", \n",
    "            new_data\n",
    "        )\n",
    "\n",
    "        # Зафиксируйте изменения в базе данных PostgreSQL\n",
    "        pg_conn.commit()"
   ]
  },
  {
   "cell_type": "code",
   "execution_count": null,
   "metadata": {},
   "outputs": [],
   "source": [
    "# Write python code that will connect to the CNC machine (ip 192.168.105.9) using the Fanuc Focas library located in folder D:\\FANUC FOCAS\\FANUC FOCAS and read from it the spindle load, number of parts and current program number"
   ]
  },
  {
   "attachments": {},
   "cell_type": "markdown",
   "metadata": {},
   "source": [
    "import os\n",
    "import sys\n",
    "from ctypes import *\n",
    "from time import sleep\n",
    "from pathlib import Path\n",
    "\n",
    "# Define the path to the Focas library\n",
    "dll_path = Path(\"D:/FANUC FOCAS/FANUC FOCAS/Fwlib64/Fwlib64.dll\")\n",
    "\n",
    "# Check if the Focas library exists\n",
    "if not dll_path.exists():\n",
    "    print(\"Focas library not found!\")\n",
    "    sys.exit(1)\n",
    "\n",
    "# Open the Focas library\n",
    "try:\n",
    "    with dll_path.open() as f:\n",
    "        pass\n",
    "except PermissionError:\n",
    "    print(\"Permission denied to open Focas library!\")\n",
    "    sys.exit(1)\n",
    "\n",
    "# Load the Focas library\n",
    "fwlib = cdll.LoadLibrary(str(dll_path))\n",
    "\n",
    "# Connect to the CNC machine\n",
    "handle = c_long(0)\n",
    "ip_address = b\"192.168.105.9\"\n",
    "port = 8193\n",
    "fwlib.cnc_allclibhndl3(ip_address, port, 10, byref(handle))\n",
    "\n",
    "# Read spindle load\n",
    "load = c_float()\n",
    "fwlib.cnc_rdspload(handle, byref(load))\n",
    "print(\"Spindle Load:\", load.value)\n",
    "\n",
    "# Read number of parts\n",
    "num_parts = c_long()\n",
    "fwlib.cnc_rdprgnum(handle, byref(num_parts))\n",
    "print(\"Number of Parts:\", num_parts.value)\n",
    "\n",
    "# Read current program number\n",
    "prog_num = c_long()\n",
    "fwlib.cnc_rdprgnum(handle, byref(prog_num))\n",
    "print(\"Current Program Number:\", prog_num.value)\n",
    "\n",
    "# # Read current feed rate\n",
    "# feed_rate = c_float()\n",
    "# fwlib.cnc_rdfdrate(handle, byref(feed_rate))\n",
    "# print(\"Current Feed Rate:\", feed_rate.value)\n",
    "\n",
    "# Read current spindle speed\n",
    "spindle_speed = c_long()\n",
    "fwlib.cnc_rdparainfo(handle, byref(spindle_speed))\n",
    "print(\"Current Spindle Speed:\", spindle_speed.value)\n",
    "\n",
    "# # Read part counter\n",
    "# part_counter = c_long()\n",
    "# fwlib.cnc_rdprcnt(handle, byref(part_counter))\n",
    "# print(\"Part Counter:\", part_counter.value)\n",
    "\n",
    "# Release the handle\n",
    "fwlib.cnc_freelibhndl(handle)\n"
   ]
  },
  {
   "cell_type": "code",
   "execution_count": null,
   "metadata": {},
   "outputs": [],
   "source": [
    "# Write instructions on how to connect to a CNC machine with ip address 192.168.105.102 using the repository https://github.com/strangesast/fwlib/tree/docker-ci-improvements on a windows 10 system"
   ]
  },
  {
   "attachments": {},
   "cell_type": "markdown",
   "metadata": {},
   "source": [
    "\n",
    "\n",
    "Connecting to CNC Machine with IP Address 192.168.105.102 using fwlib on Windows 10:\n",
    "\n",
    "Pseudocode:\n",
    "\n",
    "1. Install Git for Windows by downloading it from https://git-scm.com/downloads and following the installation instructions.\n",
    "2. Open Git Bash and navigate to the directory where you want to clone the fwlib repository.\n",
    "3. Clone the fwlib repository by running the following command: git clone https://github.com/strangesast/fwlib.git\n",
    "4. Navigate to the \"/fwlib/docker-ci-improvements\" directory by running the following command: cd fwlib/docker-ci-improvements\n",
    "5. Build the Docker container by running the following command: docker build --tag fwlib-cnc .\n",
    "6. Start the Docker container and map port 8193 to the CNC machine's IP address by running the following command: docker run -p 8193:8193 -e CNC_HOST=192.168.105.102 fwlib-cnc\n",
    "7. You can now connect to the CNC machine by opening a web browser and navigating to http://localhost:8193/\n",
    "\n",
    "Code:\n",
    "\n",
    "```python\n",
    "# Step 1: Install Git for Windows\n",
    "# Download from: https://git-scm.com/downloads\n",
    "# Follow installation instructions\n",
    "\n",
    "# Step 2: Open Git Bash and navigate to the directory where you want to clone the fwlib repository\n",
    "# Assuming the directory is \"C:\\Users\\John\\Documents\"\n",
    "cd C:/Users/John/Documents\n",
    "\n",
    "# Step 3: Clone the fwlib repository\n",
    "git clone https://github.com/strangesast/fwlib.git\n",
    "\n",
    "# Step 4: Navigate to the \"/fwlib/docker-ci-improvements\" directory\n",
    "cd fwlib/docker-ci-improvements\n",
    "\n",
    "# Step 5: Build the Docker container\n",
    "docker build --tag fwlib-cnc .\n",
    "\n",
    "# Step 6: Start the Docker container and map port 8193 to the CNC machine's IP address\n",
    "docker run -p 8193:8193 -e CNC_HOST=192.168.105.102 fwlib-cnc\n",
    "\n",
    "# Step 7: Connect to the CNC machine by opening a web browser and navigating to http://localhost:8193/\n",
    "```"
   ]
  }
 ],
 "metadata": {
  "kernelspec": {
   "display_name": "Python 3 (ipykernel)",
   "language": "python",
   "name": "python3"
  },
  "language_info": {
   "codemirror_mode": {
    "name": "ipython",
    "version": 3
   },
   "file_extension": ".py",
   "mimetype": "text/x-python",
   "name": "python",
   "nbconvert_exporter": "python",
   "pygments_lexer": "ipython3",
   "version": "3.11.0"
  },
  "vscode": {
   "interpreter": {
    "hash": "de47f5c92c0ee6f12a59a5613ac5feff6aab19ddff207ba0b3964cced08c4ccc"
   }
  }
 },
 "nbformat": 4,
 "nbformat_minor": 2
}
