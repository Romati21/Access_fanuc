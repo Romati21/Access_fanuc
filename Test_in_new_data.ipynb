{
 "cells": [
  {
   "attachments": {},
   "cell_type": "markdown",
   "metadata": {},
   "source": [
    "#### Создадим базу данных с именем \"fanuc_primary_base\""
   ]
  },
  {
   "cell_type": "code",
   "execution_count": 26,
   "metadata": {},
   "outputs": [
    {
     "name": "stdout",
     "output_type": "stream",
     "text": [
      "База данных успешно создана\n"
     ]
    }
   ],
   "source": [
    "import psycopg2\n",
    "\n",
    "conn = psycopg2.connect(dbname=\"postgres\", user=\"postgres\", password=\"nbvjirF9291\", host=\"localhost\", port=\"5432\")\n",
    "cursor = conn.cursor()\n",
    "\n",
    "conn.autocommit = True\n",
    "# команда для создания базы данных fanuc_primary_base\n",
    "sql = \"CREATE DATABASE fanuc_primary_base\"\n",
    "\n",
    "# выполняем код sql\n",
    "cursor.execute(sql)\n",
    "print(\"База данных успешно создана\")\n",
    "\n",
    "cursor.close()\n",
    "conn.close()"
   ]
  },
  {
   "attachments": {},
   "cell_type": "markdown",
   "metadata": {},
   "source": [
    "#### В базе данных \"fanuc_primary_base\" создадим таблицу primary_machine_data"
   ]
  },
  {
   "cell_type": "code",
   "execution_count": 28,
   "metadata": {},
   "outputs": [
    {
     "name": "stdout",
     "output_type": "stream",
     "text": [
      "Таблица people успешно создана\n"
     ]
    }
   ],
   "source": [
    "import psycopg2\n",
    "\n",
    "conn = psycopg2.connect(dbname=\"fanuc_primary_base\", user=\"postgres\", password=\"nbvjirF9291\", host=\"localhost\", port=\"5432\")\n",
    "cursor = conn.cursor()\n",
    "\n",
    "# создаем таблицу primary_machine_data\n",
    "cursor.execute(\"\"\"\n",
    "    CREATE TABLE IF NOT EXISTS primary_machine_data (\n",
    "        Logno bigserial,\n",
    "        machinename VARCHAR(25),\n",
    "        statustype smallint,\n",
    "        stdatetime timestamp,\n",
    "        enddatetime timestamp,\n",
    "        partcount smallint,\n",
    "        progno VARCHAR(8),\n",
    "        cyclerecord BOOL,\n",
    "        iscontinuous BOOL,\n",
    "        continuouslogno smallint,\n",
    "        transactiontime timestamp,\n",
    "        transactionms smallint,\n",
    "        almmsg VARCHAR(255),\n",
    "        controlpartcount smallint\n",
    "    );\n",
    "\"\"\")\n",
    "\n",
    "# поддверждаем транзакцию\n",
    "conn.commit()\n",
    "print(\"Таблица people успешно создана\")\n",
    "\n",
    "cursor.close()\n",
    "conn.close()"
   ]
  },
  {
   "attachments": {},
   "cell_type": "markdown",
   "metadata": {},
   "source": [
    "#### Добавляем все данные в базу SQL"
   ]
  },
  {
   "cell_type": "code",
   "execution_count": 39,
   "metadata": {},
   "outputs": [],
   "source": [
    "#импортировать необходимые библиотеки\n",
    "import pyodbc\n",
    "import psycopg2\n",
    "\n",
    "# Подключитесь к базе данных Access\n",
    "access_conn_str = (\n",
    "    r'DRIVER={Microsoft Access Driver (*.mdb, *.accdb)};'\n",
    "    # r'DBQ=E:\\MONITORING\\test_pandas.accdb;'\n",
    "    r'DBQ=D:\\SkyMarsUtilization\\2022-02-09_UtilizationDB.mdb'\n",
    "    )\n",
    "access_conn = pyodbc.connect(access_conn_str)\n",
    "access_cursor = access_conn.cursor()\n",
    "\n",
    "# Подключитесь к базе данных PostgreSQL\n",
    "pg_conn = psycopg2.connect(dbname=\"fanuc_primary_base\", user=\"postgres\", password=\"nbvjirF9291\", host=\"localhost\", port=\"5432\")\n",
    "pg_cursor = pg_conn.cursor()\n",
    "\n",
    "# Выбор новых данных из базы данных Access\n",
    "access_cursor.execute(\"SELECT * FROM StatusLog\")\n",
    "new_data = set([tuple(row) for row in access_cursor.fetchall()])\n",
    "\n",
    "# Вставка новых данных в базу данных PostgreSQL\n",
    "pg_cursor.executemany(\"INSERT INTO primary_machine_data VALUES (%s, %s, %s, %s,\\\n",
    "       %s, %s, %s, %s, %s, %s, %s, %s, %s, %s)\", new_data)\n",
    "\n",
    "# Зафиксируйте изменения в базе данных PostgreSQL\n",
    "pg_conn.commit()\n",
    "print(\"Данные успешно добавленны\")\n",
    "\n",
    "# Close connections\n",
    "pg_cursor.close()\n",
    "pg_conn.close()\n",
    "access_cursor.close()\n",
    "access_conn.close()"
   ]
  },
  {
   "attachments": {},
   "cell_type": "markdown",
   "metadata": {},
   "source": [
    "#### Добавляем в базу SQL только новые данные"
   ]
  },
  {
   "cell_type": "code",
   "execution_count": 1,
   "metadata": {},
   "outputs": [],
   "source": [
    "# Импорт необходимых библиотек\n",
    "import pyodbc\n",
    "import psycopg2\n",
    "\n",
    "# Подключение к базе данных Access\n",
    "access_conn_str = (\n",
    "    r'DRIVER={Microsoft Access Driver (*.mdb, *.accdb)};'\n",
    "    r'DBQ=D:\\SkyMarsUtilization\\2022-02-09_UtilizationDB.mdb'\n",
    ")\n",
    "with pyodbc.connect(access_conn_str) as access_conn, access_conn.cursor() as access_cursor:\n",
    "\n",
    "    # Подключение к базе данных PostgreSQL\n",
    "    pg_conn = psycopg2.connect(\n",
    "        dbname=\"fanuc_primary_base\",\n",
    "        user=\"postgres\",\n",
    "        password=\"nbvjirF9291\",\n",
    "        host=\"localhost\",\n",
    "        port=\"5432\"\n",
    "    )\n",
    "    with pg_conn, pg_conn.cursor() as pg_cursor:\n",
    "\n",
    "        # Получение существующих данных из базы данных PostgreSQL\n",
    "        pg_cursor.execute(\n",
    "            \"SELECT logno, machinename, statustype, stdatetime, enddatetime, partcount, progno, cyclerecord, iscontinuous, \\\n",
    "            continuouslogno, transactiontime, transactionms, almmsg, controlpartcount FROM primary_machine_data\"\n",
    "        )\n",
    "        existing_data = {row[0]: row[1:] for row in pg_cursor.fetchall()}\n",
    "\n",
    "        # Получение новых данных из базы данных Access\n",
    "        access_cursor.execute(\"SELECT * FROM StatusLog\")\n",
    "        new_data = [tuple(row) for row in access_cursor.fetchall()]\n",
    "\n",
    "        # Отфильтруйте существующие данные из new_data\n",
    "        new_data = [row for row in new_data if row[0] not in existing_data.keys()]\n",
    "\n",
    "        # Вставка новых_данных в базу данных PostgreSQL\n",
    "        pg_cursor.executemany(\n",
    "            \"INSERT INTO primary_machine_data (logno, machinename, statustype, stdatetime, enddatetime, partcount, progno, \\\n",
    "            cyclerecord, iscontinuous, continuouslogno, transactiontime, transactionms, almmsg, controlpartcount) \\\n",
    "            VALUES (%s, %s, %s, %s, %s, %s, %s, %s, %s, %s, %s, %s, %s, %s)\", \n",
    "            new_data\n",
    "        )\n",
    "\n",
    "        # Зафиксируйте изменения в базе данных PostgreSQL\n",
    "        pg_conn.commit()"
   ]
  }
  
